{
 "cells": [
  {
   "cell_type": "markdown",
   "metadata": {},
   "source": [
    "# The third project of Dataquest.io\n",
    "\n",
    "The main topic of this project will be the utilization of modules as Numpy and Pandas. Which are really important modules on the data science environment.\n",
    "\n",
    "The dataset to study is a used cars from *eBay Kleinanzeigen* dataset. It is a classified section of the German eBay website."
   ]
  }
 ],
 "metadata": {
  "kernelspec": {
   "display_name": "Python 3",
   "language": "python",
   "name": "python3"
  },
  "language_info": {
   "codemirror_mode": {
    "name": "ipython",
    "version": 3
   },
   "file_extension": ".py",
   "mimetype": "text/x-python",
   "name": "python",
   "nbconvert_exporter": "python",
   "pygments_lexer": "ipython3",
   "version": "3.7.1"
  }
 },
 "nbformat": 4,
 "nbformat_minor": 2
}
